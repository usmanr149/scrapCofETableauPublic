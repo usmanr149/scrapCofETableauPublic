{
 "cells": [
  {
   "cell_type": "code",
   "execution_count": 1,
   "metadata": {},
   "outputs": [],
   "source": [
    "from lxml import html\n",
    "import requests\n",
    "import json"
   ]
  },
  {
   "cell_type": "code",
   "execution_count": 21,
   "metadata": {},
   "outputs": [],
   "source": [
    "from urllib.request import urlopen\n",
    "from bs4 import BeautifulSoup\n",
    "import pandas as pd"
   ]
  },
  {
   "cell_type": "code",
   "execution_count": 3,
   "metadata": {},
   "outputs": [],
   "source": [
    "from selenium import webdriver\n",
    "import re, os\n",
    "import numpy as np"
   ]
  },
  {
   "cell_type": "code",
   "execution_count": 4,
   "metadata": {},
   "outputs": [],
   "source": [
    "url = 'https://public.tableau.com/profile/city.of.edmonton#!/'"
   ]
  },
  {
   "cell_type": "code",
   "execution_count": 5,
   "metadata": {},
   "outputs": [],
   "source": [
    "current_dirs_parent = os.getcwd()"
   ]
  },
  {
   "cell_type": "code",
   "execution_count": 6,
   "metadata": {},
   "outputs": [
    {
     "data": {
      "text/plain": [
       "'/Users/usmanrizwan/workspace/scrap_COETableau'"
      ]
     },
     "execution_count": 6,
     "metadata": {},
     "output_type": "execute_result"
    }
   ],
   "source": [
    "current_dirs_parent"
   ]
  },
  {
   "cell_type": "code",
   "execution_count": 7,
   "metadata": {},
   "outputs": [],
   "source": [
    "driver = webdriver.Chrome(current_dirs_parent + '/chromedriver')"
   ]
  },
  {
   "cell_type": "code",
   "execution_count": 8,
   "metadata": {},
   "outputs": [],
   "source": [
    "driver.get(url)"
   ]
  },
  {
   "cell_type": "code",
   "execution_count": 9,
   "metadata": {},
   "outputs": [],
   "source": [
    "driver.execute_script(\"window.scrollTo(0, document.body.scrollHeight);\")"
   ]
  },
  {
   "cell_type": "code",
   "execution_count": 10,
   "metadata": {},
   "outputs": [
    {
     "data": {
      "text/plain": [
       "'44'"
      ]
     },
     "execution_count": 10,
     "metadata": {},
     "output_type": "execute_result"
    }
   ],
   "source": [
    "# number if vizzes\n",
    "driver.find_element_by_class_name('count').text"
   ]
  },
  {
   "cell_type": "code",
   "execution_count": 11,
   "metadata": {},
   "outputs": [],
   "source": [
    "titles = driver.find_elements_by_class_name('workbook-title')\n",
    "\n",
    "# titles = driver.find_elements_by_xpath('//span[@ng-bind=\"controller.workbook.title\"]')"
   ]
  },
  {
   "cell_type": "code",
   "execution_count": 12,
   "metadata": {},
   "outputs": [],
   "source": [
    "# driver.find_elements_by_xpath('//span[@ng-bind=\"controller.workbook.title\"]')"
   ]
  },
  {
   "cell_type": "code",
   "execution_count": 13,
   "metadata": {},
   "outputs": [
    {
     "data": {
      "text/plain": [
       "'<a ng-href=\"/profile/urban.analysis#!/vizhome/DowntownbikeGrid_0/DowntownBikeGridMonitoring\" data-test-id=\"viewProfileViz-title-link\" href=\"/profile/urban.analysis#!/vizhome/DowntownbikeGrid_0/DowntownBikeGridMonitoring\"><span ng-bind=\"controller.workbook.title\">Bicycles</span></a>'"
      ]
     },
     "execution_count": 13,
     "metadata": {},
     "output_type": "execute_result"
    }
   ],
   "source": [
    "titles[-1].get_attribute('innerHTML')"
   ]
  },
  {
   "cell_type": "code",
   "execution_count": 14,
   "metadata": {},
   "outputs": [
    {
     "name": "stdout",
     "output_type": "stream",
     "text": [
      "title:  City of Edmonton Council & Committee Meeting Calendar\n",
      "title:  Lot Servicing Report\n",
      "title:  Lot Registration Report\n",
      "title:  Building Permit Activities (Monthly)\n",
      "title:  City of Edmonton Council Agenda And Motion Search\n",
      "title:  Building Edmonton Capital Project\n",
      "title:  Neighbourhood Profiles_Federal Census 2016\n",
      "title:  Neighbourhood Profiles_Federal Census 2016_Dictionary\n",
      "title:  Public Total Solar Installations Data\n",
      "title:  AAWDT REPORT - 2016\n",
      "title:  Residential Building Permits in Edmonton's Mature Neighbourhoods\n",
      "title:  City of Edmonton Vacant Industrial Land Interactive Map\n",
      "title:  Edmonton Pet Licenses\n",
      "title:  311 Requests Explorer\n",
      "title:  Edmonton Bike Routes\n",
      "title:  Assessment Data\n",
      "title:  Mature Neighbourhood Reinvestment Report 2017\n",
      "title:  ETS Customer Satisfaction Survey\n",
      "title:  Downtown Bike Counts 2017 Public\n",
      "title:  311 Cycling Categories June 2016 and 2017\n",
      "title:  2017 Construction On Your Streets\n",
      "title:  CODS17 Mobility Data\n",
      "title:  Traffic Disruptions Edmonton Map\n",
      "title:  Dataset Request Statuses\n",
      "title:  Coyote Reportings\n",
      "title:  Edmonton, Strathcona & St. Albert School Explorer\n",
      "title:  Census 2016 Highlights\n",
      "title:  Census 2016 Explorer\n",
      "title:  Census 2016 Neighbourhood Profiles\n",
      "title:  Edmonton's Crime Stats\n",
      "title:  Assessed Value and Crimes per Population (2009-2016)\n",
      "title:  Are They Related\n",
      "title:  Crime Analytics - Trends and Forecasting\n",
      "title:  Explore Edmonton's Crime Incident Data\n",
      "title:  Crime vs Police Officers per Capita\n",
      "title:  Open Analytics Map\n",
      "title:  Edmonton Kids' Map - Summer 2016\n",
      "title:  2016 Farewell to Winter Patio Party Map\n",
      "title:  Fire Response Events\n",
      "title:  Edmonton Trees\n",
      "title:  Edmonton Graffiti Audit 2010-2014\n",
      "title:  City of Edmonton Vacant Land Map\n",
      "title:  City of Edmonton Green Technology Directory Map\n",
      "title:  Insight Community - City Engagement\n",
      "title:  \n"
     ]
    }
   ],
   "source": [
    "for i in titles:\n",
    "    print('title: ', i.text)"
   ]
  },
  {
   "cell_type": "code",
   "execution_count": 15,
   "metadata": {},
   "outputs": [],
   "source": [
    "viz_names = []\n",
    "\n",
    "for i in titles:\n",
    "    viz_names.append(i.text)"
   ]
  },
  {
   "cell_type": "code",
   "execution_count": 16,
   "metadata": {},
   "outputs": [],
   "source": [
    "views = driver.find_elements_by_class_name('workbook-view-count')"
   ]
  },
  {
   "cell_type": "code",
   "execution_count": 17,
   "metadata": {},
   "outputs": [
    {
     "data": {
      "text/plain": [
       "'<span ng-bind=\"controller.workbook.viewCount\">6835</span> <span translate-string-contents=\"WORKBOOK_VIEWS_COUNT_LABEL\" translate-values=\"{&quot;COUNT&quot;: 6835}\">views</span> '"
      ]
     },
     "execution_count": 17,
     "metadata": {},
     "output_type": "execute_result"
    }
   ],
   "source": [
    "views[-1].get_attribute('innerHTML')"
   ]
  },
  {
   "cell_type": "code",
   "execution_count": null,
   "metadata": {},
   "outputs": [],
   "source": []
  },
  {
   "cell_type": "code",
   "execution_count": 18,
   "metadata": {},
   "outputs": [],
   "source": [
    "viz_views = []\n",
    "\n",
    "for v in views:\n",
    "    try:\n",
    "        viz_views.append(int(v.text.split(' ')[0]))\n",
    "    except:\n",
    "        viz_views.append('')"
   ]
  },
  {
   "cell_type": "code",
   "execution_count": 22,
   "metadata": {},
   "outputs": [],
   "source": [
    "ex_dic = {\n",
    "    'Viz Title': viz_names,\n",
    "    'Views': viz_views\n",
    "}\n",
    "\n",
    "df = pd.DataFrame.from_records(ex_dic, columns=['Viz Title', 'Views'])"
   ]
  },
  {
   "cell_type": "code",
   "execution_count": 23,
   "metadata": {},
   "outputs": [],
   "source": [
    "import datetime"
   ]
  },
  {
   "cell_type": "code",
   "execution_count": 24,
   "metadata": {},
   "outputs": [
    {
     "data": {
      "text/plain": [
       "'2019-06-01'"
      ]
     },
     "execution_count": 24,
     "metadata": {},
     "output_type": "execute_result"
    }
   ],
   "source": [
    "datetime.datetime.today().strftime('%Y-%m-%d')"
   ]
  },
  {
   "cell_type": "code",
   "execution_count": 25,
   "metadata": {},
   "outputs": [],
   "source": [
    "df['Date'] = datetime.datetime.today().strftime('%Y-%m-%d')"
   ]
  },
  {
   "cell_type": "code",
   "execution_count": 26,
   "metadata": {},
   "outputs": [],
   "source": [
    "df['Viz Title'].replace('', np.nan, inplace=True)\n",
    "\n",
    "df.dropna(subset=['Viz Title'], inplace=True)"
   ]
  },
  {
   "cell_type": "code",
   "execution_count": 27,
   "metadata": {},
   "outputs": [
    {
     "data": {
      "text/html": [
       "<div>\n",
       "<style scoped>\n",
       "    .dataframe tbody tr th:only-of-type {\n",
       "        vertical-align: middle;\n",
       "    }\n",
       "\n",
       "    .dataframe tbody tr th {\n",
       "        vertical-align: top;\n",
       "    }\n",
       "\n",
       "    .dataframe thead th {\n",
       "        text-align: right;\n",
       "    }\n",
       "</style>\n",
       "<table border=\"1\" class=\"dataframe\">\n",
       "  <thead>\n",
       "    <tr style=\"text-align: right;\">\n",
       "      <th></th>\n",
       "      <th>Viz Title</th>\n",
       "      <th>Views</th>\n",
       "      <th>Date</th>\n",
       "    </tr>\n",
       "  </thead>\n",
       "  <tbody>\n",
       "    <tr>\n",
       "      <th>39</th>\n",
       "      <td>Edmonton Trees</td>\n",
       "      <td>2005</td>\n",
       "      <td>2019-06-01</td>\n",
       "    </tr>\n",
       "    <tr>\n",
       "      <th>40</th>\n",
       "      <td>Edmonton Graffiti Audit 2010-2014</td>\n",
       "      <td>769</td>\n",
       "      <td>2019-06-01</td>\n",
       "    </tr>\n",
       "    <tr>\n",
       "      <th>41</th>\n",
       "      <td>City of Edmonton Vacant Land Map</td>\n",
       "      <td>182</td>\n",
       "      <td>2019-06-01</td>\n",
       "    </tr>\n",
       "    <tr>\n",
       "      <th>42</th>\n",
       "      <td>City of Edmonton Green Technology Directory Map</td>\n",
       "      <td>172</td>\n",
       "      <td>2019-06-01</td>\n",
       "    </tr>\n",
       "    <tr>\n",
       "      <th>43</th>\n",
       "      <td>Insight Community - City Engagement</td>\n",
       "      <td>959</td>\n",
       "      <td>2019-06-01</td>\n",
       "    </tr>\n",
       "  </tbody>\n",
       "</table>\n",
       "</div>"
      ],
      "text/plain": [
       "                                          Viz Title Views        Date\n",
       "39                                   Edmonton Trees  2005  2019-06-01\n",
       "40                Edmonton Graffiti Audit 2010-2014   769  2019-06-01\n",
       "41                 City of Edmonton Vacant Land Map   182  2019-06-01\n",
       "42  City of Edmonton Green Technology Directory Map   172  2019-06-01\n",
       "43              Insight Community - City Engagement   959  2019-06-01"
      ]
     },
     "execution_count": 27,
     "metadata": {},
     "output_type": "execute_result"
    }
   ],
   "source": [
    "df.tail()"
   ]
  },
  {
   "cell_type": "code",
   "execution_count": 28,
   "metadata": {},
   "outputs": [],
   "source": [
    "import gspread\n",
    "from oauth2client.service_account import ServiceAccountCredentials"
   ]
  },
  {
   "cell_type": "code",
   "execution_count": 29,
   "metadata": {},
   "outputs": [],
   "source": [
    "import pygsheets\n",
    "import pandas as pd"
   ]
  },
  {
   "cell_type": "code",
   "execution_count": 30,
   "metadata": {},
   "outputs": [],
   "source": [
    "gc = pygsheets.authorize('protect/credentials.json')"
   ]
  },
  {
   "cell_type": "code",
   "execution_count": 31,
   "metadata": {},
   "outputs": [],
   "source": [
    "#open the google spreadsheet (where 'PY to Gsheet Test' is the name of my sheet)\n",
    "sh = gc.open_by_key('1cInMp8VOFmWuVhePuVxwVC60MH6nrDkkBv0S6XUiLkU')"
   ]
  },
  {
   "cell_type": "code",
   "execution_count": 32,
   "metadata": {},
   "outputs": [],
   "source": [
    "#select the first sheet \n",
    "wks = sh[0]\n",
    "\n",
    "#update the first sheet with df, starting at cell B2. \n",
    "# wks.set_dataframe(df,(1,1))"
   ]
  },
  {
   "cell_type": "code",
   "execution_count": 38,
   "metadata": {},
   "outputs": [],
   "source": [
    "for index,row in df.iterrows():\n",
    "    wks.append_table(values=[row['Viz Title'], row['Views'], str(row['Date'])])\n",
    "#     print(row['Viz Title'], row['Views'], row['Date'])"
   ]
  },
  {
   "cell_type": "code",
   "execution_count": 76,
   "metadata": {},
   "outputs": [],
   "source": [
    "# wks.append_table(values=['City of Edmonton Green Technology Directory Map', '172 views', '2019-05-30'])"
   ]
  },
  {
   "cell_type": "code",
   "execution_count": null,
   "metadata": {},
   "outputs": [],
   "source": [
    "# wks.append_table(values=[['City of Edmonton Green Technology Directory Map', '172 views', '2019-05-30'])"
   ]
  },
  {
   "cell_type": "code",
   "execution_count": 39,
   "metadata": {},
   "outputs": [],
   "source": [
    "wks_1 = sh[1]"
   ]
  },
  {
   "cell_type": "code",
   "execution_count": 40,
   "metadata": {},
   "outputs": [],
   "source": [
    "wks_1.append_table(values=[len(df), sum(df['Views']), str(datetime.datetime.today().strftime('%Y-%m-%d'))])"
   ]
  },
  {
   "cell_type": "code",
   "execution_count": 102,
   "metadata": {},
   "outputs": [
    {
     "data": {
      "text/plain": [
       "128689"
      ]
     },
     "execution_count": 102,
     "metadata": {},
     "output_type": "execute_result"
    }
   ],
   "source": [
    "sum(df['Views'])"
   ]
  },
  {
   "cell_type": "code",
   "execution_count": 41,
   "metadata": {},
   "outputs": [],
   "source": [
    "driver.close()"
   ]
  },
  {
   "cell_type": "code",
   "execution_count": null,
   "metadata": {},
   "outputs": [],
   "source": []
  }
 ],
 "metadata": {
  "kernelspec": {
   "display_name": "RPA",
   "language": "python",
   "name": "mdservice"
  },
  "language_info": {
   "codemirror_mode": {
    "name": "ipython",
    "version": 3
   },
   "file_extension": ".py",
   "mimetype": "text/x-python",
   "name": "python",
   "nbconvert_exporter": "python",
   "pygments_lexer": "ipython3",
   "version": "3.7.1"
  }
 },
 "nbformat": 4,
 "nbformat_minor": 2
}
